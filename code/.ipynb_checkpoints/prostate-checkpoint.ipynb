{
 "cells": [
  {
   "cell_type": "markdown",
   "metadata": {},
   "source": [
    "The purpose of this notebook is the respond to the \"enova interview challenge.\" Namely, given the data, we are trying to determine whether or not a subject is alive 7 years after diagnosis. "
   ]
  },
  {
   "cell_type": "code",
   "execution_count": 1,
   "metadata": {
    "collapsed": true
   },
   "outputs": [],
   "source": [
    "if 0:\n",
    "    !jupyter nbconvert --to script prostate.ipynb"
   ]
  },
  {
   "cell_type": "markdown",
   "metadata": {},
   "source": [
    "# Usual load ins"
   ]
  },
  {
   "cell_type": "code",
   "execution_count": 2,
   "metadata": {
    "collapsed": false
   },
   "outputs": [],
   "source": [
    "import sys\n",
    "import numpy as np\n",
    "import sklearn as sk\n",
    "import pandas as pd\n",
    "import matplotlib.pyplot as plt\n",
    "\n",
    "from sklearn.ensemble import RandomForestClassifier\n",
    "from sklearn.preprocessing import MultiLabelBinarizer\n",
    "from sklearn.preprocessing import LabelEncoder\n",
    "from sklearn.model_selection import cross_val_score\n",
    "from collections import OrderedDict\n",
    "from sklearn import metrics\n",
    "from ggplot import *\n"
   ]
  },
  {
   "cell_type": "markdown",
   "metadata": {},
   "source": [
    "# special sauce"
   ]
  },
  {
   "cell_type": "code",
   "execution_count": 3,
   "metadata": {
    "collapsed": false
   },
   "outputs": [],
   "source": [
    "sys.path.append('/Users/jameshorine/repos/private_code/core')\n",
    "import core_functions as core\n"
   ]
  },
  {
   "cell_type": "markdown",
   "metadata": {},
   "source": [
    "# File Load in "
   ]
  },
  {
   "cell_type": "code",
   "execution_count": 4,
   "metadata": {
    "collapsed": true
   },
   "outputs": [],
   "source": [
    "train_file_path = '/Users/jameshorine/repos/prostate_cancer/data/training_data.csv'\n",
    "scoring_file_path = '/Users/jameshorine/repos/prostate_cancer/data/name_score.csv'"
   ]
  },
  {
   "cell_type": "code",
   "execution_count": 5,
   "metadata": {
    "collapsed": false
   },
   "outputs": [],
   "source": [
    "train_data = pd.read_csv(train_file_path)\n",
    "scoring_data = pd.read_csv(scoring_file_path)"
   ]
  },
  {
   "cell_type": "code",
   "execution_count": 6,
   "metadata": {
    "collapsed": true
   },
   "outputs": [],
   "source": [
    "use_impute = True"
   ]
  },
  {
   "cell_type": "code",
   "execution_count": 7,
   "metadata": {
    "collapsed": false
   },
   "outputs": [
    {
     "name": "stdout",
     "output_type": "stream",
     "text": [
      "Loading required package: mice\n",
      "Loading required package: methods\n",
      "Loading required package: lattice\n",
      "\n",
      " iter imp variable\n",
      "  1   1  gleason_score  age  race  height  weight  family_history  first_degree_history  previous_cancer  smoker  tumor_diagnosis  tumor_1_year  psa_diagnosis  psa_6_months  psa_1_year  tea\n",
      "  1   2  gleason_score  age  race  height  weight  family_history  first_degree_history  previous_cancer  smoker  tumor_diagnosis  tumor_1_year  psa_diagnosis  psa_6_months  psa_1_year  tea\n",
      "  1   3  gleason_score  age  race  height  weight  family_history  first_degree_history  previous_cancer  smoker  tumor_diagnosis  tumor_1_year  psa_diagnosis  psa_6_months  psa_1_year  tea\n",
      "  1   4  gleason_score  age  race  height  weight  family_history  first_degree_history  previous_cancer  smoker  tumor_diagnosis  tumor_1_year  psa_diagnosis  psa_6_months  psa_1_year  tea\n",
      "  1   5  gleason_score  age  race  height  weight  family_history  first_degree_history  previous_cancer  smoker  tumor_diagnosis  tumor_1_year  psa_diagnosis  psa_6_months  psa_1_year  tea\n",
      "  2   1  gleason_score  age  race  height  weight  family_history  first_degree_history  previous_cancer  smoker  tumor_diagnosis  tumor_1_year  psa_diagnosis  psa_6_months  psa_1_year  tea\n",
      "  2   2  gleason_score  age  race  height  weight  family_history  first_degree_history  previous_cancer  smoker  tumor_diagnosis  tumor_1_year  psa_diagnosis  psa_6_months  psa_1_year  tea\n",
      "  2   3  gleason_score  age  race  height  weight  family_history  first_degree_history  previous_cancer  smoker  tumor_diagnosis  tumor_1_year  psa_diagnosis  psa_6_months  psa_1_year  tea\n",
      "  2   4  gleason_score  age  race  height  weight  family_history  first_degree_history  previous_cancer  smoker  tumor_diagnosis  tumor_1_year  psa_diagnosis  psa_6_months  psa_1_year  tea\n",
      "  2   5  gleason_score  age  race  height  weight  family_history  first_degree_history  previous_cancer  smoker  tumor_diagnosis  tumor_1_year  psa_diagnosis  psa_6_months  psa_1_year  tea\n",
      "  3   1  gleason_score  age  race  height  weight  family_history  first_degree_history  previous_cancer  smoker  tumor_diagnosis  tumor_1_year  psa_diagnosis  psa_6_months  psa_1_year  tea\n",
      "  3   2  gleason_score  age  race  height  weight  family_history  first_degree_history  previous_cancer  smoker  tumor_diagnosis  tumor_1_year  psa_diagnosis  psa_6_months  psa_1_year  tea\n",
      "  3   3  gleason_score  age  race  height  weight  family_history  first_degree_history  previous_cancer  smoker  tumor_diagnosis  tumor_1_year  psa_diagnosis  psa_6_months  psa_1_year  tea\n",
      "  3   4  gleason_score  age  race  height  weight  family_history  first_degree_history  previous_cancer  smoker  tumor_diagnosis  tumor_1_year  psa_diagnosis  psa_6_months  psa_1_year  tea\n",
      "  3   5  gleason_score  age  race  height  weight  family_history  first_degree_history  previous_cancer  smoker  tumor_diagnosis  tumor_1_year  psa_diagnosis  psa_6_months  psa_1_year  tea\n",
      "  4   1  gleason_score  age  race  height  weight  family_history  first_degree_history  previous_cancer  smoker  tumor_diagnosis  tumor_1_year  psa_diagnosis  psa_6_months  psa_1_year  tea\n",
      "  4   2  gleason_score  age  race  height  weight  family_history  first_degree_history  previous_cancer  smoker  tumor_diagnosis  tumor_1_year  psa_diagnosis  psa_6_months  psa_1_year  tea\n",
      "  4   3  gleason_score  age  race  height  weight  family_history  first_degree_history  previous_cancer  smoker  tumor_diagnosis  tumor_1_year  psa_diagnosis  psa_6_months  psa_1_year  tea\n",
      "  4   4  gleason_score  age  race  height  weight  family_history  first_degree_history  previous_cancer  smoker  tumor_diagnosis  tumor_1_year  psa_diagnosis  psa_6_months  psa_1_year  tea\n",
      "  4   5  gleason_score  age  race  height  weight  family_history  first_degree_history  previous_cancer  smoker  tumor_diagnosis  tumor_1_year  psa_diagnosis  psa_6_months  psa_1_year  tea\n",
      "  5   1  gleason_score  age  race  height  weight  family_history  first_degree_history  previous_cancer  smoker  tumor_diagnosis  tumor_1_year  psa_diagnosis  psa_6_months  psa_1_year  tea\n",
      "  5   2  gleason_score  age  race  height  weight  family_history  first_degree_history  previous_cancer  smoker  tumor_diagnosis  tumor_1_year  psa_diagnosis  psa_6_months  psa_1_year  tea\n",
      "  5   3  gleason_score  age  race  height  weight  family_history  first_degree_history  previous_cancer  smoker  tumor_diagnosis  tumor_1_year  psa_diagnosis  psa_6_months  psa_1_year  tea\n",
      "  5   4  gleason_score  age  race  height  weight  family_history  first_degree_history  previous_cancer  smoker  tumor_diagnosis  tumor_1_year  psa_diagnosis  psa_6_months  psa_1_year  tea\n",
      "  5   5  gleason_score  age  race  height  weight  family_history  first_degree_history  previous_cancer  smoker  tumor_diagnosis  tumor_1_year  psa_diagnosis  psa_6_months  psa_1_year  tea\n",
      "\n",
      " iter imp variable\n",
      "  1   1  gleason_score  age  race  height  weight  family_history  first_degree_history  previous_cancer  smoker  tumor_diagnosis  tumor_1_year  psa_diagnosis  psa_6_months  psa_1_year  tea\n",
      "  1   2  gleason_score  age  race  height  weight  family_history  first_degree_history  previous_cancer  smoker  tumor_diagnosis  tumor_1_year  psa_diagnosis  psa_6_months  psa_1_year  tea\n",
      "  1   3  gleason_score  age  race  height  weight  family_history  first_degree_history  previous_cancer  smoker  tumor_diagnosis  tumor_1_year  psa_diagnosis  psa_6_months  psa_1_year  tea\n",
      "  1   4  gleason_score  age  race  height  weight  family_history  first_degree_history  previous_cancer  smoker  tumor_diagnosis  tumor_1_year  psa_diagnosis  psa_6_months  psa_1_year  tea\n",
      "  1   5  gleason_score  age  race  height  weight  family_history  first_degree_history  previous_cancer  smoker  tumor_diagnosis  tumor_1_year  psa_diagnosis  psa_6_months  psa_1_year  tea\n",
      "  2   1  gleason_score  age  race  height  weight  family_history  first_degree_history  previous_cancer  smoker  tumor_diagnosis  tumor_1_year  psa_diagnosis  psa_6_months  psa_1_year  tea\n",
      "  2   2  gleason_score  age  race  height  weight  family_history  first_degree_history  previous_cancer  smoker  tumor_diagnosis  tumor_1_year  psa_diagnosis  psa_6_months  psa_1_year  tea\n",
      "  2   3  gleason_score  age  race  height  weight  family_history  first_degree_history  previous_cancer  smoker  tumor_diagnosis  tumor_1_year  psa_diagnosis  psa_6_months  psa_1_year  tea\n",
      "  2   4  gleason_score  age  race  height  weight  family_history  first_degree_history  previous_cancer  smoker  tumor_diagnosis  tumor_1_year  psa_diagnosis  psa_6_months  psa_1_year  tea\n",
      "  2   5  gleason_score  age  race  height  weight  family_history  first_degree_history  previous_cancer  smoker  tumor_diagnosis  tumor_1_year  psa_diagnosis  psa_6_months  psa_1_year  tea\n",
      "  3   1  gleason_score  age  race  height  weight  family_history  first_degree_history  previous_cancer  smoker  tumor_diagnosis  tumor_1_year  psa_diagnosis  psa_6_months  psa_1_year  tea\n",
      "  3   2  gleason_score  age  race  height  weight  family_history  first_degree_history  previous_cancer  smoker  tumor_diagnosis  tumor_1_year  psa_diagnosis  psa_6_months  psa_1_year  tea\n",
      "  3   3  gleason_score  age  race  height  weight  family_history  first_degree_history  previous_cancer  smoker  tumor_diagnosis  tumor_1_year  psa_diagnosis  psa_6_months  psa_1_year  tea\n",
      "  3   4  gleason_score  age  race  height  weight  family_history  first_degree_history  previous_cancer  smoker  tumor_diagnosis  tumor_1_year  psa_diagnosis  psa_6_months  psa_1_year  tea\n",
      "  3   5  gleason_score  age  race  height  weight  family_history  first_degree_history  previous_cancer  smoker  tumor_diagnosis  tumor_1_year  psa_diagnosis  psa_6_months  psa_1_year  tea\n",
      "  4   1  gleason_score  age  race  height  weight  family_history  first_degree_history  previous_cancer  smoker  tumor_diagnosis  tumor_1_year  psa_diagnosis  psa_6_months  psa_1_year  tea\n",
      "  4   2  gleason_score  age  race  height  weight  family_history  first_degree_history  previous_cancer  smoker  tumor_diagnosis  tumor_1_year  psa_diagnosis  psa_6_months  psa_1_year  tea\n",
      "  4   3  gleason_score  age  race  height  weight  family_history  first_degree_history  previous_cancer  smoker  tumor_diagnosis  tumor_1_year  psa_diagnosis  psa_6_months  psa_1_year  tea\n",
      "  4   4  gleason_score  age  race  height  weight  family_history  first_degree_history  previous_cancer  smoker  tumor_diagnosis  tumor_1_year  psa_diagnosis  psa_6_months  psa_1_year  tea\n",
      "  4   5  gleason_score  age  race  height  weight  family_history  first_degree_history  previous_cancer  smoker  tumor_diagnosis  tumor_1_year  psa_diagnosis  psa_6_months  psa_1_year  tea\n",
      "  5   1  gleason_score  age  race  height  weight  family_history  first_degree_history  previous_cancer  smoker  tumor_diagnosis  tumor_1_year  psa_diagnosis  psa_6_months  psa_1_year  tea\n",
      "  5   2  gleason_score  age  race  height  weight  family_history  first_degree_history  previous_cancer  smoker  tumor_diagnosis  tumor_1_year  psa_diagnosis  psa_6_months  psa_1_year  tea\n",
      "  5   3  gleason_score  age  race  height  weight  family_history  first_degree_history  previous_cancer  smoker  tumor_diagnosis  tumor_1_year  psa_diagnosis  psa_6_months  psa_1_year  tea\n",
      "  5   4  gleason_score  age  race  height  weight  family_history  first_degree_history  previous_cancer  smoker  tumor_diagnosis  tumor_1_year  psa_diagnosis  psa_6_months  psa_1_year  tea\n",
      "  5   5  gleason_score  age  race  height  weight  family_history  first_degree_history  previous_cancer  smoker  tumor_diagnosis  tumor_1_year  psa_diagnosis  psa_6_months  psa_1_year  tea\n",
      "null device \n",
      "          1 \n",
      "null device \n",
      "          1 \n"
     ]
    }
   ],
   "source": [
    "if use_impute:\n",
    "    \n",
    "    #imputation script\n",
    "    ! Rscript /Users/jameshorine/repos/private_code/enova_challenge/code/imputation_code.R\n",
    "    #paths\n",
    "    imputed_train_file_path = '/Users/jameshorine/repos/prostate_cancer/data/imputed_training.csv'\n",
    "    imputed_scoring_file_path = '/Users/jameshorine/repos/prostate_cancer/data/imputed_testing.csv'\n",
    "    #files\n",
    "    imputed_train_data = pd.read_csv(imputed_train_file_path)\n",
    "    imputed_scoring_data = pd.read_csv(imputed_scoring_file_path)\n",
    "    \n",
    "    train_data[imputed_train_data.columns] = imputed_train_data\n",
    "    scoring_data[imputed_scoring_data.columns] = imputed_scoring_data"
   ]
  },
  {
   "cell_type": "code",
   "execution_count": 8,
   "metadata": {
    "collapsed": true
   },
   "outputs": [],
   "source": [
    "sanity_check = False"
   ]
  },
  {
   "cell_type": "code",
   "execution_count": 9,
   "metadata": {
    "collapsed": false,
    "scrolled": false
   },
   "outputs": [],
   "source": [
    "if sanity_check:\n",
    "    print(\"___________________________\")\n",
    "    print(\"___________________________\")\n",
    "    print(\"scoring\")\n",
    "    print(\"___________________________\")\n",
    "    print(\"___________________________\")\n",
    "    print(scoring_data.isnull().sum(axis = 0)/scoring_data.shape[0])\n",
    "    print(\"___________________________\")\n",
    "    print(\"___________________________\")\n",
    "    print(\"testing\")\n",
    "    print(\"___________________________\")\n",
    "    print(\"___________________________\")\n",
    "    print(train_data.isnull().sum(axis = 0)/train_data.shape[0] )"
   ]
  },
  {
   "cell_type": "markdown",
   "metadata": {},
   "source": [
    "We have an 89% survival rate from diagnosis"
   ]
  },
  {
   "cell_type": "code",
   "execution_count": 10,
   "metadata": {
    "collapsed": false
   },
   "outputs": [
    {
     "data": {
      "text/plain": [
       "0.89691257718557038"
      ]
     },
     "execution_count": 10,
     "metadata": {},
     "output_type": "execute_result"
    }
   ],
   "source": [
    "sum(train_data.survival_1_year)/train_data.shape[0]"
   ]
  },
  {
   "cell_type": "markdown",
   "metadata": {},
   "source": [
    "We have an 43% survival rate from diagnosis"
   ]
  },
  {
   "cell_type": "code",
   "execution_count": 11,
   "metadata": {
    "collapsed": false
   },
   "outputs": [
    {
     "data": {
      "text/plain": [
       "0.43230419239519013"
      ]
     },
     "execution_count": 11,
     "metadata": {},
     "output_type": "execute_result"
    }
   ],
   "source": [
    "sum(train_data.survival_7_years)/train_data.shape[0]"
   ]
  },
  {
   "cell_type": "code",
   "execution_count": 12,
   "metadata": {
    "collapsed": false
   },
   "outputs": [
    {
     "data": {
      "text/plain": [
       "(6651, 33)"
      ]
     },
     "execution_count": 12,
     "metadata": {},
     "output_type": "execute_result"
    }
   ],
   "source": [
    "train_data[(train_data['survival_1_year'] == 1) & (train_data['survival_7_years'] == 1)].shape"
   ]
  },
  {
   "cell_type": "markdown",
   "metadata": {},
   "source": [
    "Sanity Check: "
   ]
  },
  {
   "cell_type": "code",
   "execution_count": 13,
   "metadata": {
    "collapsed": false
   },
   "outputs": [
    {
     "data": {
      "text/plain": [
       "(0, 33)"
      ]
     },
     "execution_count": 13,
     "metadata": {},
     "output_type": "execute_result"
    }
   ],
   "source": [
    "train_data[(train_data['survival_1_year'] == 0) & (train_data['survival_7_years'] == 1)].shape"
   ]
  },
  {
   "cell_type": "markdown",
   "metadata": {},
   "source": [
    "# Fill in empty symptoms variable"
   ]
  },
  {
   "cell_type": "code",
   "execution_count": 14,
   "metadata": {
    "collapsed": false
   },
   "outputs": [],
   "source": [
    "train_data['symptoms'].fillna(value = 'empty_symptom_code', inplace = True)\n",
    "train_data['symptoms'] = train_data.apply(lambda x: tuple(x.symptoms.split(',')), axis = 1)"
   ]
  },
  {
   "cell_type": "code",
   "execution_count": 15,
   "metadata": {
    "collapsed": false
   },
   "outputs": [],
   "source": [
    "scoring_data['symptoms'].fillna(value = 'empty_symptom_code', inplace = True)\n",
    "scoring_data['symptoms'] = scoring_data.apply(lambda x: tuple(x.symptoms.split(',')), axis = 1)"
   ]
  },
  {
   "cell_type": "code",
   "execution_count": null,
   "metadata": {
    "collapsed": false
   },
   "outputs": [],
   "source": []
  },
  {
   "cell_type": "markdown",
   "metadata": {},
   "source": [
    "# Applying multilabel binarizer \n"
   ]
  },
  {
   "cell_type": "code",
   "execution_count": 16,
   "metadata": {
    "collapsed": true
   },
   "outputs": [],
   "source": [
    "mlb_training = MultiLabelBinarizer()\n",
    "mlb_testing = MultiLabelBinarizer()"
   ]
  },
  {
   "cell_type": "code",
   "execution_count": 17,
   "metadata": {
    "collapsed": false
   },
   "outputs": [
    {
     "data": {
      "text/plain": [
       "(15385, 17)"
      ]
     },
     "execution_count": 17,
     "metadata": {},
     "output_type": "execute_result"
    }
   ],
   "source": [
    "mlb_training.fit_transform(train_data['symptoms']).shape"
   ]
  },
  {
   "cell_type": "code",
   "execution_count": 18,
   "metadata": {
    "collapsed": false
   },
   "outputs": [],
   "source": [
    "mlb_training_data = core.mlb_setup(data=train_data, item_var='symptoms', mlb=mlb_training)"
   ]
  },
  {
   "cell_type": "code",
   "execution_count": 19,
   "metadata": {
    "collapsed": false
   },
   "outputs": [],
   "source": [
    "mlb_scoring_data = core.mlb_setup(data=scoring_data, item_var='symptoms', mlb=mlb_testing)"
   ]
  },
  {
   "cell_type": "markdown",
   "metadata": {},
   "source": [
    "# Defining Features and Targets "
   ]
  },
  {
   "cell_type": "code",
   "execution_count": 20,
   "metadata": {
    "collapsed": true
   },
   "outputs": [],
   "source": [
    "target7 = 'survival_7_years'\n",
    "target1 = 'survival_1_year' \n"
   ]
  },
  {
   "cell_type": "code",
   "execution_count": 21,
   "metadata": {
    "collapsed": false
   },
   "outputs": [],
   "source": [
    "cat_cols = ['t_score', 'n_score', 'm_score', 'side', 'stage']\n"
   ]
  },
  {
   "cell_type": "code",
   "execution_count": 22,
   "metadata": {
    "collapsed": false
   },
   "outputs": [],
   "source": [
    "#one hot encoding\n",
    "\n",
    "training_one_hot = pd.get_dummies(mlb_training_data[cat_cols])\n",
    "clean_training = pd.concat([mlb_training_data, training_one_hot], axis = 1)  \n",
    "\n",
    "scoring_one_hot = pd.get_dummies(mlb_scoring_data[cat_cols])\n",
    "clean_scoring = pd.concat([mlb_scoring_data, scoring_one_hot], axis = 1)\n"
   ]
  },
  {
   "cell_type": "code",
   "execution_count": 23,
   "metadata": {
    "collapsed": false
   },
   "outputs": [],
   "source": [
    "features = [x for x in clean_training.isnull().sum(axis = 0).index[clean_training.isnull().sum(axis = 0) ==0] if x not in ['id', 'diagnosis_date', 'survival_7_years', 't_score', 'n_score', 'm_score', 'side', 'tumor_6_months','stage','symptoms']]           \n",
    "imputer_features = [x for x in clean_training.isnull().sum(axis = 0).index[clean_training.isnull().sum(axis = 0) ==0] if x not in ['id', 'diagnosis_date', 'survival_1_year', 'survival_7_years', 't_score', 'n_score','tumor_6_months', 'm_score', 'side', 'stage','symptoms']]           \n",
    " "
   ]
  },
  {
   "cell_type": "markdown",
   "metadata": {},
   "source": [
    "# Useful Code From SkLearn... Results check out with 10-fold CV "
   ]
  },
  {
   "cell_type": "code",
   "execution_count": 24,
   "metadata": {
    "collapsed": false
   },
   "outputs": [],
   "source": [
    "RANDOM_STATE = 123\n",
    "\n",
    "ensemble_clfs = [\n",
    "    (\"RandomForestClassifier, max_features='sqrt'\",\n",
    "        RandomForestClassifier(warm_start=True,\n",
    "                               oob_score=True,\n",
    "                               max_features=\"sqrt\",\n",
    "                               min_samples_leaf=5,\n",
    "                               random_state=RANDOM_STATE)),\n",
    "    \n",
    "    (\"RandomForestClassifier, max_features='log2'\",\n",
    "        RandomForestClassifier(warm_start=True,\n",
    "                               max_features='log2',\n",
    "                               oob_score=True,\n",
    "                               min_samples_leaf=5,\n",
    "                               random_state=RANDOM_STATE)),\n",
    "    \n",
    "    (\"RandomForestClassifier, max_features=None\",\n",
    "        RandomForestClassifier(warm_start=True,\n",
    "                               max_features=None,\n",
    "                               oob_score=True,\n",
    "                               min_samples_leaf=5,\n",
    "                               random_state=RANDOM_STATE))\n",
    "]"
   ]
  },
  {
   "cell_type": "code",
   "execution_count": 25,
   "metadata": {
    "collapsed": false,
    "scrolled": true
   },
   "outputs": [
    {
     "name": "stderr",
     "output_type": "stream",
     "text": [
      "/Users/jameshorine/anaconda/lib/python3.6/site-packages/sklearn/ensemble/forest.py:439: UserWarning: Some inputs do not have OOB scores. This probably means too few trees were used to compute any reliable oob estimates.\n",
      "  warn(\"Some inputs do not have OOB scores. \"\n",
      "/Users/jameshorine/anaconda/lib/python3.6/site-packages/sklearn/ensemble/forest.py:444: RuntimeWarning: invalid value encountered in true_divide\n",
      "  predictions[k].sum(axis=1)[:, np.newaxis])\n",
      "/Users/jameshorine/anaconda/lib/python3.6/site-packages/sklearn/ensemble/forest.py:439: UserWarning: Some inputs do not have OOB scores. This probably means too few trees were used to compute any reliable oob estimates.\n",
      "  warn(\"Some inputs do not have OOB scores. \"\n",
      "/Users/jameshorine/anaconda/lib/python3.6/site-packages/sklearn/ensemble/forest.py:444: RuntimeWarning: invalid value encountered in true_divide\n",
      "  predictions[k].sum(axis=1)[:, np.newaxis])\n",
      "/Users/jameshorine/anaconda/lib/python3.6/site-packages/sklearn/ensemble/forest.py:439: UserWarning: Some inputs do not have OOB scores. This probably means too few trees were used to compute any reliable oob estimates.\n",
      "  warn(\"Some inputs do not have OOB scores. \"\n",
      "/Users/jameshorine/anaconda/lib/python3.6/site-packages/sklearn/ensemble/forest.py:444: RuntimeWarning: invalid value encountered in true_divide\n",
      "  predictions[k].sum(axis=1)[:, np.newaxis])\n",
      "/Users/jameshorine/anaconda/lib/python3.6/site-packages/sklearn/ensemble/forest.py:439: UserWarning: Some inputs do not have OOB scores. This probably means too few trees were used to compute any reliable oob estimates.\n",
      "  warn(\"Some inputs do not have OOB scores. \"\n",
      "/Users/jameshorine/anaconda/lib/python3.6/site-packages/sklearn/ensemble/forest.py:444: RuntimeWarning: invalid value encountered in true_divide\n",
      "  predictions[k].sum(axis=1)[:, np.newaxis])\n",
      "/Users/jameshorine/anaconda/lib/python3.6/site-packages/sklearn/ensemble/forest.py:439: UserWarning: Some inputs do not have OOB scores. This probably means too few trees were used to compute any reliable oob estimates.\n",
      "  warn(\"Some inputs do not have OOB scores. \"\n",
      "/Users/jameshorine/anaconda/lib/python3.6/site-packages/sklearn/ensemble/forest.py:444: RuntimeWarning: invalid value encountered in true_divide\n",
      "  predictions[k].sum(axis=1)[:, np.newaxis])\n",
      "/Users/jameshorine/anaconda/lib/python3.6/site-packages/sklearn/ensemble/forest.py:439: UserWarning: Some inputs do not have OOB scores. This probably means too few trees were used to compute any reliable oob estimates.\n",
      "  warn(\"Some inputs do not have OOB scores. \"\n",
      "/Users/jameshorine/anaconda/lib/python3.6/site-packages/sklearn/ensemble/forest.py:444: RuntimeWarning: invalid value encountered in true_divide\n",
      "  predictions[k].sum(axis=1)[:, np.newaxis])\n",
      "/Users/jameshorine/anaconda/lib/python3.6/site-packages/sklearn/ensemble/forest.py:439: UserWarning: Some inputs do not have OOB scores. This probably means too few trees were used to compute any reliable oob estimates.\n",
      "  warn(\"Some inputs do not have OOB scores. \"\n",
      "/Users/jameshorine/anaconda/lib/python3.6/site-packages/sklearn/ensemble/forest.py:444: RuntimeWarning: invalid value encountered in true_divide\n",
      "  predictions[k].sum(axis=1)[:, np.newaxis])\n",
      "/Users/jameshorine/anaconda/lib/python3.6/site-packages/sklearn/ensemble/forest.py:439: UserWarning: Some inputs do not have OOB scores. This probably means too few trees were used to compute any reliable oob estimates.\n",
      "  warn(\"Some inputs do not have OOB scores. \"\n",
      "/Users/jameshorine/anaconda/lib/python3.6/site-packages/sklearn/ensemble/forest.py:444: RuntimeWarning: invalid value encountered in true_divide\n",
      "  predictions[k].sum(axis=1)[:, np.newaxis])\n",
      "/Users/jameshorine/anaconda/lib/python3.6/site-packages/sklearn/ensemble/forest.py:439: UserWarning: Some inputs do not have OOB scores. This probably means too few trees were used to compute any reliable oob estimates.\n",
      "  warn(\"Some inputs do not have OOB scores. \"\n",
      "/Users/jameshorine/anaconda/lib/python3.6/site-packages/sklearn/ensemble/forest.py:444: RuntimeWarning: invalid value encountered in true_divide\n",
      "  predictions[k].sum(axis=1)[:, np.newaxis])\n",
      "/Users/jameshorine/anaconda/lib/python3.6/site-packages/sklearn/ensemble/forest.py:439: UserWarning: Some inputs do not have OOB scores. This probably means too few trees were used to compute any reliable oob estimates.\n",
      "  warn(\"Some inputs do not have OOB scores. \"\n",
      "/Users/jameshorine/anaconda/lib/python3.6/site-packages/sklearn/ensemble/forest.py:444: RuntimeWarning: invalid value encountered in true_divide\n",
      "  predictions[k].sum(axis=1)[:, np.newaxis])\n",
      "/Users/jameshorine/anaconda/lib/python3.6/site-packages/sklearn/ensemble/forest.py:439: UserWarning: Some inputs do not have OOB scores. This probably means too few trees were used to compute any reliable oob estimates.\n",
      "  warn(\"Some inputs do not have OOB scores. \"\n",
      "/Users/jameshorine/anaconda/lib/python3.6/site-packages/sklearn/ensemble/forest.py:444: RuntimeWarning: invalid value encountered in true_divide\n",
      "  predictions[k].sum(axis=1)[:, np.newaxis])\n",
      "/Users/jameshorine/anaconda/lib/python3.6/site-packages/sklearn/ensemble/forest.py:439: UserWarning: Some inputs do not have OOB scores. This probably means too few trees were used to compute any reliable oob estimates.\n",
      "  warn(\"Some inputs do not have OOB scores. \"\n",
      "/Users/jameshorine/anaconda/lib/python3.6/site-packages/sklearn/ensemble/forest.py:444: RuntimeWarning: invalid value encountered in true_divide\n",
      "  predictions[k].sum(axis=1)[:, np.newaxis])\n",
      "/Users/jameshorine/anaconda/lib/python3.6/site-packages/sklearn/ensemble/forest.py:439: UserWarning: Some inputs do not have OOB scores. This probably means too few trees were used to compute any reliable oob estimates.\n",
      "  warn(\"Some inputs do not have OOB scores. \"\n",
      "/Users/jameshorine/anaconda/lib/python3.6/site-packages/sklearn/ensemble/forest.py:444: RuntimeWarning: invalid value encountered in true_divide\n",
      "  predictions[k].sum(axis=1)[:, np.newaxis])\n",
      "/Users/jameshorine/anaconda/lib/python3.6/site-packages/sklearn/ensemble/forest.py:439: UserWarning: Some inputs do not have OOB scores. This probably means too few trees were used to compute any reliable oob estimates.\n",
      "  warn(\"Some inputs do not have OOB scores. \"\n",
      "/Users/jameshorine/anaconda/lib/python3.6/site-packages/sklearn/ensemble/forest.py:444: RuntimeWarning: invalid value encountered in true_divide\n",
      "  predictions[k].sum(axis=1)[:, np.newaxis])\n",
      "/Users/jameshorine/anaconda/lib/python3.6/site-packages/sklearn/ensemble/forest.py:439: UserWarning: Some inputs do not have OOB scores. This probably means too few trees were used to compute any reliable oob estimates.\n",
      "  warn(\"Some inputs do not have OOB scores. \"\n",
      "/Users/jameshorine/anaconda/lib/python3.6/site-packages/sklearn/ensemble/forest.py:444: RuntimeWarning: invalid value encountered in true_divide\n",
      "  predictions[k].sum(axis=1)[:, np.newaxis])\n",
      "/Users/jameshorine/anaconda/lib/python3.6/site-packages/sklearn/ensemble/forest.py:439: UserWarning: Some inputs do not have OOB scores. This probably means too few trees were used to compute any reliable oob estimates.\n",
      "  warn(\"Some inputs do not have OOB scores. \"\n",
      "/Users/jameshorine/anaconda/lib/python3.6/site-packages/sklearn/ensemble/forest.py:444: RuntimeWarning: invalid value encountered in true_divide\n",
      "  predictions[k].sum(axis=1)[:, np.newaxis])\n",
      "/Users/jameshorine/anaconda/lib/python3.6/site-packages/sklearn/ensemble/forest.py:439: UserWarning: Some inputs do not have OOB scores. This probably means too few trees were used to compute any reliable oob estimates.\n",
      "  warn(\"Some inputs do not have OOB scores. \"\n",
      "/Users/jameshorine/anaconda/lib/python3.6/site-packages/sklearn/ensemble/forest.py:444: RuntimeWarning: invalid value encountered in true_divide\n",
      "  predictions[k].sum(axis=1)[:, np.newaxis])\n",
      "/Users/jameshorine/anaconda/lib/python3.6/site-packages/sklearn/ensemble/forest.py:439: UserWarning: Some inputs do not have OOB scores. This probably means too few trees were used to compute any reliable oob estimates.\n",
      "  warn(\"Some inputs do not have OOB scores. \"\n",
      "/Users/jameshorine/anaconda/lib/python3.6/site-packages/sklearn/ensemble/forest.py:444: RuntimeWarning: invalid value encountered in true_divide\n",
      "  predictions[k].sum(axis=1)[:, np.newaxis])\n"
     ]
    }
   ],
   "source": [
    "# Map a classifier name to a list of (<n_estimators>, <error rate>) pairs.\n",
    "error_rate = OrderedDict((label, []) for label, _ in ensemble_clfs)\n",
    "\n",
    "# Range of `n_estimators` values to explore.\n",
    "min_estimators = 15\n",
    "max_estimators = 175\n",
    "\n",
    "for label, clf in ensemble_clfs:\n",
    "    for i in range(min_estimators, max_estimators + 1):\n",
    "        clf.set_params(n_estimators=i)\n",
    "        clf.fit(X=clean_training[features], y=clean_training[target7])\n",
    "\n",
    "        # Record the OOB error for each `n_estimators=i` setting.\n",
    "        oob_error = 1 - clf.oob_score_\n",
    "        error_rate[label].append((i, oob_error))\n",
    "\n"
   ]
  },
  {
   "cell_type": "code",
   "execution_count": 26,
   "metadata": {
    "collapsed": false
   },
   "outputs": [
    {
     "data": {
      "image/png": "[encoded data removed]",
      "text/plain": [
       "<matplotlib.figure.Figure at 0x116723400>"
      ]
     },
     "metadata": {},
     "output_type": "display_data"
    }
   ],
   "source": [
    "# Generate the \"OOB error rate\" vs. \"n_estimators\" plot.\n",
    "for label, clf_err in error_rate.items():\n",
    "    xs, ys = zip(*clf_err)\n",
    "    plt.plot(xs, ys, label=label)\n",
    "\n",
    "plt.xlim(min_estimators, max_estimators)\n",
    "plt.xlabel(\"n_estimators\")\n",
    "plt.ylabel(\"OOB error rate\")\n",
    "plt.legend(loc=\"upper right\")\n",
    "plt.savefig('../plots/OOB_error_rate.pdf')\n",
    "plt.show()\n"
   ]
  },
  {
   "cell_type": "markdown",
   "metadata": {},
   "source": [
    "### Notes: square root hits a stable OOB error level faster than using $\\text{log}_2$-many features OR all avaliable features."
   ]
  },
  {
   "cell_type": "markdown",
   "metadata": {},
   "source": [
    "# Random Forest and Imputer Random Forest fit"
   ]
  },
  {
   "cell_type": "code",
   "execution_count": 27,
   "metadata": {
    "collapsed": true
   },
   "outputs": [],
   "source": [
    "clf = RandomForestClassifier(max_features='sqrt')\n",
    "clf_imputer = RandomForestClassifier(max_features='sqrt')\n"
   ]
  },
  {
   "cell_type": "code",
   "execution_count": 28,
   "metadata": {
    "collapsed": false
   },
   "outputs": [
    {
     "data": {
      "text/plain": [
       "RandomForestClassifier(bootstrap=True, class_weight=None, criterion='gini',\n",
       "            max_depth=None, max_features='sqrt', max_leaf_nodes=None,\n",
       "            min_impurity_split=1e-07, min_samples_leaf=1,\n",
       "            min_samples_split=2, min_weight_fraction_leaf=0.0,\n",
       "            n_estimators=10, n_jobs=1, oob_score=False, random_state=None,\n",
       "            verbose=0, warm_start=False)"
      ]
     },
     "execution_count": 28,
     "metadata": {},
     "output_type": "execute_result"
    }
   ],
   "source": [
    "clf_imputer.fit(X=clean_training[imputer_features], y=clean_training[target1])\n",
    "clf.fit(X=clean_training[features], y=clean_training[target7])"
   ]
  },
  {
   "cell_type": "markdown",
   "metadata": {},
   "source": [
    "# Importance"
   ]
  },
  {
   "cell_type": "code",
   "execution_count": 29,
   "metadata": {
    "collapsed": true
   },
   "outputs": [],
   "source": [
    "importance_imputed_1_year = clf_imputer.feature_importances_\n",
    "importance_imputed_1_year = pd.DataFrame(importance_imputed_1_year, index=clean_training[imputer_features].columns, \n",
    "                          columns=[\"Importance\"])\n"
   ]
  },
  {
   "cell_type": "code",
   "execution_count": 30,
   "metadata": {
    "collapsed": false
   },
   "outputs": [],
   "source": [
    "importance_7 = clf.feature_importances_\n",
    "importance_7 = pd.DataFrame(importance_7, index=clean_training[features].columns, \n",
    "                          columns=[\"Importance\"])\n"
   ]
  },
  {
   "cell_type": "code",
   "execution_count": 31,
   "metadata": {
    "collapsed": false
   },
   "outputs": [
    {
     "data": {
      "text/html": [
       "<div>\n",
       "<table border=\"1\" class=\"dataframe\">\n",
       "  <thead>\n",
       "    <tr style=\"text-align: right;\">\n",
       "      <th></th>\n",
       "      <th>Importance</th>\n",
       "    </tr>\n",
       "  </thead>\n",
       "  <tbody>\n",
       "    <tr>\n",
       "      <th>tumor_diagnosis</th>\n",
       "      <td>0.063712</td>\n",
       "    </tr>\n",
       "    <tr>\n",
       "      <th>weight</th>\n",
       "      <td>0.063512</td>\n",
       "    </tr>\n",
       "    <tr>\n",
       "      <th>tumor_1_year</th>\n",
       "      <td>0.063167</td>\n",
       "    </tr>\n",
       "    <tr>\n",
       "      <th>survival_1_year</th>\n",
       "      <td>0.062353</td>\n",
       "    </tr>\n",
       "    <tr>\n",
       "      <th>psa_6_months</th>\n",
       "      <td>0.061980</td>\n",
       "    </tr>\n",
       "    <tr>\n",
       "      <th>psa_diagnosis</th>\n",
       "      <td>0.061262</td>\n",
       "    </tr>\n",
       "    <tr>\n",
       "      <th>psa_1_year</th>\n",
       "      <td>0.061192</td>\n",
       "    </tr>\n",
       "    <tr>\n",
       "      <th>age</th>\n",
       "      <td>0.058949</td>\n",
       "    </tr>\n",
       "    <tr>\n",
       "      <th>gleason_score</th>\n",
       "      <td>0.041574</td>\n",
       "    </tr>\n",
       "    <tr>\n",
       "      <th>tea</th>\n",
       "      <td>0.036170</td>\n",
       "    </tr>\n",
       "  </tbody>\n",
       "</table>\n",
       "</div>"
      ],
      "text/plain": [
       "                 Importance\n",
       "tumor_diagnosis    0.063712\n",
       "weight             0.063512\n",
       "tumor_1_year       0.063167\n",
       "survival_1_year    0.062353\n",
       "psa_6_months       0.061980\n",
       "psa_diagnosis      0.061262\n",
       "psa_1_year         0.061192\n",
       "age                0.058949\n",
       "gleason_score      0.041574\n",
       "tea                0.036170"
      ]
     },
     "execution_count": 31,
     "metadata": {},
     "output_type": "execute_result"
    }
   ],
   "source": [
    "importance_7.sort_values(by = 'Importance', ascending = False).head(10)"
   ]
  },
  {
   "cell_type": "markdown",
   "metadata": {},
   "source": [
    "# Imputer 10-fold accuracy score"
   ]
  },
  {
   "cell_type": "code",
   "execution_count": 32,
   "metadata": {
    "collapsed": false
   },
   "outputs": [
    {
     "name": "stdout",
     "output_type": "stream",
     "text": [
      "0.889827923385\n"
     ]
    }
   ],
   "source": [
    "imputer_acc_score = (cross_val_score(cv=10, estimator=clf_imputer,X=clean_training[imputer_features], y=clean_training[target1], n_jobs=2)).mean()  \n",
    "print(imputer_acc_score)"
   ]
  },
  {
   "cell_type": "markdown",
   "metadata": {},
   "source": [
    "# Random Forest 10-fold accuracy score"
   ]
  },
  {
   "cell_type": "code",
   "execution_count": 33,
   "metadata": {
    "collapsed": false
   },
   "outputs": [
    {
     "name": "stdout",
     "output_type": "stream",
     "text": [
      "0.636851158383\n"
     ]
    }
   ],
   "source": [
    "rf_acc_score = (cross_val_score(cv=10, estimator=clf,X=clean_training[features], y=clean_training[target7], n_jobs=2)).mean()  \n",
    "print(rf_acc_score)"
   ]
  },
  {
   "cell_type": "markdown",
   "metadata": {},
   "source": [
    "# Imputing 1 year survival missing variable "
   ]
  },
  {
   "cell_type": "code",
   "execution_count": 34,
   "metadata": {
    "collapsed": false
   },
   "outputs": [],
   "source": [
    "clean_scoring['survival_1_year'] = clf_imputer.predict(X=clean_scoring[imputer_features])"
   ]
  },
  {
   "cell_type": "markdown",
   "metadata": {},
   "source": [
    "# Predicting 7 year survival"
   ]
  },
  {
   "cell_type": "code",
   "execution_count": 35,
   "metadata": {
    "collapsed": false
   },
   "outputs": [],
   "source": [
    "clean_scoring['survival_7_years'] = clf.predict(X=clean_scoring[features])"
   ]
  },
  {
   "cell_type": "code",
   "execution_count": 36,
   "metadata": {
    "collapsed": false
   },
   "outputs": [
    {
     "data": {
      "text/plain": [
       "survival_7_years    0.398491\n",
       "dtype: float64"
      ]
     },
     "execution_count": 36,
     "metadata": {},
     "output_type": "execute_result"
    }
   ],
   "source": [
    "clean_scoring[['survival_7_years']].sum() / clean_scoring.shape[0]"
   ]
  },
  {
   "cell_type": "markdown",
   "metadata": {},
   "source": [
    "# ROC Curve "
   ]
  },
  {
   "cell_type": "code",
   "execution_count": 37,
   "metadata": {
    "collapsed": false
   },
   "outputs": [
    {
     "data": {
      "image/png": "[encoded data removed]",
      "text/plain": [
       "<matplotlib.figure.Figure at 0x116349390>"
      ]
     },
     "metadata": {},
     "output_type": "display_data"
    },
    {
     "data": {
      "text/plain": [
       "<ggplot: (-9223372036563088019)>"
      ]
     },
     "execution_count": 37,
     "metadata": {},
     "output_type": "execute_result"
    }
   ],
   "source": [
    "in_sample_preds = clf.predict_proba(clean_training[features])[:,1]\n",
    "fpr, tpr, _ = metrics.roc_curve(clean_training['survival_7_years'], in_sample_preds)\n",
    "\n",
    "df_in_sample = pd.DataFrame(dict(fpr=fpr, tpr=tpr))\n",
    "ggplot(df_in_sample, aes(x='fpr', y='tpr')) +\\\n",
    "    geom_line() +\\\n",
    "    geom_abline(linetype='dashed')\n",
    " "
   ]
  },
  {
   "cell_type": "markdown",
   "metadata": {},
   "source": [
    "In sample AUC"
   ]
  },
  {
   "cell_type": "code",
   "execution_count": 38,
   "metadata": {
    "collapsed": false
   },
   "outputs": [
    {
     "data": {
      "text/plain": [
       "0.99906056712091817"
      ]
     },
     "execution_count": 38,
     "metadata": {},
     "output_type": "execute_result"
    }
   ],
   "source": [
    "sk.metrics.roc_auc_score(y_true=clean_training[target7], y_score=in_sample_preds)\n"
   ]
  },
  {
   "cell_type": "markdown",
   "metadata": {
    "collapsed": true
   },
   "source": [
    "# Data Write out "
   ]
  },
  {
   "cell_type": "code",
   "execution_count": 39,
   "metadata": {
    "collapsed": true
   },
   "outputs": [],
   "source": [
    "save_file_path = '../data/james_score.csv'"
   ]
  },
  {
   "cell_type": "code",
   "execution_count": 40,
   "metadata": {
    "collapsed": false
   },
   "outputs": [],
   "source": [
    "clean_scoring.to_csv(path_or_buf=save_file_path ,index=False)"
   ]
  }
 ],
 "metadata": {
  "kernelspec": {
   "display_name": "Python 3",
   "language": "python",
   "name": "python3"
  },
  "language_info": {
   "codemirror_mode": {
    "name": "ipython",
    "version": 3
   },
   "file_extension": ".py",
   "mimetype": "text/x-python",
   "name": "python",
   "nbconvert_exporter": "python",
   "pygments_lexer": "ipython3",
   "version": "3.6.0"
  }
 },
 "nbformat": 4,
 "nbformat_minor": 2
}
